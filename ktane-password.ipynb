{
 "cells": [
  {
   "cell_type": "code",
   "execution_count": null,
   "metadata": {
    "collapsed": false
   },
   "outputs": [],
   "source": [
    "with open(\"passwords.txt\", \"r\") as text_file:\n",
    "    passwords = text_file.read().split('\\n')\n",
    "    \n",
    "candidates = [True] * len(passwords)\n",
    "\n",
    "# Fill these in with input from the driver\n",
    "positions = ['',\n",
    "             '',\n",
    "             '',\n",
    "             '',\n",
    "             '']\n",
    "\n",
    "for j in range(len(positions)):\n",
    "    if len(positions[j]):\n",
    "        for i in range(len(passwords)):\n",
    "            if passwords[i][j] not in positions[j]:\n",
    "                candidates[i] = False\n",
    "\n",
    "for k in range(len(passwords)):\n",
    "    if candidates[k]:\n",
    "        print passwords[k]"
   ]
  }
 ],
 "metadata": {
  "kernelspec": {
   "display_name": "Python 2",
   "language": "python",
   "name": "python2"
  },
  "language_info": {
   "codemirror_mode": {
    "name": "ipython",
    "version": 2
   },
   "file_extension": ".py",
   "mimetype": "text/x-python",
   "name": "python",
   "nbconvert_exporter": "python",
   "pygments_lexer": "ipython2",
   "version": "2.7.10"
  }
 },
 "nbformat": 4,
 "nbformat_minor": 0
}
